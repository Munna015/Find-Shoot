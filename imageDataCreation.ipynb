{
 "cells": [
  {
   "cell_type": "code",
   "execution_count": 1,
   "metadata": {},
   "outputs": [
    {
     "name": "stdout",
     "output_type": "stream",
     "text": [
      "Requirement already satisfied: qimage2ndarray in c:\\users\\mahmudul hasan\\anaconda3\\lib\\site-packages (1.9.0)\n",
      "Requirement already satisfied: numpy in c:\\users\\mahmudul hasan\\anaconda3\\lib\\site-packages (from qimage2ndarray) (1.19.2)\n"
     ]
    }
   ],
   "source": [
    "!pip install qimage2ndarray"
   ]
  },
  {
   "cell_type": "code",
   "execution_count": 2,
   "metadata": {
    "id": "CvE_U24k06w7"
   },
   "outputs": [
    {
     "name": "stderr",
     "output_type": "stream",
     "text": [
      "  0%|          | 0/5625 [00:00<?, ?it/s]<ipython-input-2-e6c325605665>:68: DeprecationWarning: an integer is required (got type numpy.float64).  Implicit conversion to integers using __int__ is deprecated, and may be removed in a future version of Python.\n",
      "  painter.fillRect(player1X, playerY, playerWidth,\n",
      "<ipython-input-2-e6c325605665>:70: DeprecationWarning: an integer is required (got type numpy.float64).  Implicit conversion to integers using __int__ is deprecated, and may be removed in a future version of Python.\n",
      "  painter.fillRect(player2X, playerY, playerWidth,\n",
      "<ipython-input-2-e6c325605665>:72: DeprecationWarning: an integer is required (got type numpy.float64).  Implicit conversion to integers using __int__ is deprecated, and may be removed in a future version of Python.\n",
      "  painter.fillRect(stoneX, stoneY, stoneWidth,\n",
      "100%|██████████| 5625/5625 [00:19<00:00, 292.98it/s]\n",
      "C:\\Users\\Mahmudul Hasan\\anaconda3\\lib\\site-packages\\numpy\\core\\_asarray.py:136: VisibleDeprecationWarning: Creating an ndarray from ragged nested sequences (which is a list-or-tuple of lists-or-tuples-or ndarrays with different lengths or shapes) is deprecated. If you meant to do this, you must specify 'dtype=object' when creating the ndarray\n",
      "  return array(a, dtype, copy=False, order=order, subok=True)\n"
     ]
    },
    {
     "name": "stdout",
     "output_type": "stream",
     "text": [
      "saving the data...\n",
      "Please wait...\n",
      "saved successfully!!\n"
     ]
    }
   ],
   "source": [
    "import numpy\n",
    "import qimage2ndarray\n",
    "from PyQt5.QtGui import QPainter, QImage\n",
    "from PyQt5.Qt import Qt\n",
    "import cv2\n",
    "from tqdm import tqdm\n",
    "\n",
    "# constant from game\n",
    "screenWidth = 800\n",
    "screenHeight = 600\n",
    "\n",
    "fieldHeight = 100\n",
    "fieldColor = Qt.darkGreen\n",
    "barHeight = 160\n",
    "barWidth = 20\n",
    "barColor=Qt.darkRed\n",
    "barPosX = (screenWidth // 2) - (barWidth // 2)\n",
    "barPosY = screenHeight - fieldHeight - barHeight\n",
    "\n",
    "player1limitX = (0, barPosX - barWidth)          #player width == bar width\n",
    "player2limitX = (barPosX + barWidth, screenWidth - barWidth)\n",
    "\n",
    "player1AngleLimit = (0, 84)\n",
    "player2AngleLimit = (96, 180)\n",
    "\n",
    "playerHeight = (barHeight*2) // 3 \n",
    "playerWidth = barWidth\n",
    "\n",
    "playerY = screenHeight - fieldHeight - playerHeight\n",
    "\n",
    "playerColor = Qt.darkCyan\n",
    "\n",
    "\n",
    "stoneHeight = 16\n",
    "stoneWidth = 16\n",
    "stoneColor = Qt.red\n",
    "stoneY = playerY - stoneHeight\n",
    "\n",
    "imageCrop = 300\n",
    "imageResize = (80,30)\n",
    "\n",
    "#data load\n",
    "all_data = numpy.load('modelData.npy')\n",
    "\n",
    "\n",
    "img_data = []\n",
    "output = []\n",
    "\n",
    "image = QImage(screenWidth, screenHeight, QImage.Format_RGB32)\n",
    "painter = QPainter(image)\n",
    "\n",
    "for data in tqdm(all_data):\n",
    "    target_dist = data[0]\n",
    "    bar_dist = data[1]\n",
    "    \n",
    "    player1X = barPosX - bar_dist\n",
    "    player2X = player1X + target_dist\n",
    "    stoneX = player2X + playerWidth - stoneWidth\n",
    "    \n",
    "    #draw\n",
    "    image.fill(Qt.lightGray)\n",
    "\n",
    "    painter.fillRect(0, screenHeight - fieldHeight,\n",
    "                           screenWidth, fieldHeight, fieldColor)\n",
    "    painter.fillRect(barPosX, barPosY, barWidth,\n",
    "                  barHeight, barColor)\n",
    "\n",
    "    painter.fillRect(player1X, playerY, playerWidth,\n",
    "                      playerHeight, playerColor)\n",
    "    painter.fillRect(player2X, playerY, playerWidth,\n",
    "                      playerHeight, playerColor)\n",
    "    painter.fillRect(stoneX, stoneY, stoneWidth,\n",
    "                      stoneWidth, stoneColor)\n",
    "\n",
    "    arr_image = qimage2ndarray.byte_view(image)\n",
    "    cropped_image = arr_image[imageCrop:]\n",
    "    resized_image = cv2.resize(cropped_image, imageResize)\n",
    "    cv2.imwrite('images\\\\' + str(data[:2]) + '.jpg', resized_image)\n",
    "    \n",
    "    img_data.append(resized_image)\n",
    "    output.append([180 - data[2], data[3]]) #angle makes for pc\n",
    "\n",
    "savedData = [img_data, output]\n",
    "\n",
    "#print(savedData)\n",
    "    \n",
    "print('saving the data...')\n",
    "print('Please wait...')\n",
    "numpy.save('modelImageData.npy', savedData)\n",
    "print('saved successfully!!')"
   ]
  },
  {
   "cell_type": "code",
   "execution_count": null,
   "metadata": {},
   "outputs": [],
   "source": []
  },
  {
   "cell_type": "code",
   "execution_count": null,
   "metadata": {},
   "outputs": [],
   "source": []
  }
 ],
 "metadata": {
  "colab": {
   "name": "imageDataCreation.ipynb",
   "provenance": []
  },
  "kernelspec": {
   "display_name": "Python 3",
   "language": "python",
   "name": "python3"
  },
  "language_info": {
   "codemirror_mode": {
    "name": "ipython",
    "version": 3
   },
   "file_extension": ".py",
   "mimetype": "text/x-python",
   "name": "python",
   "nbconvert_exporter": "python",
   "pygments_lexer": "ipython3",
   "version": "3.8.5"
  }
 },
 "nbformat": 4,
 "nbformat_minor": 1
}
