{
 "cells": [
  {
   "cell_type": "code",
   "execution_count": null,
   "metadata": {
    "id": "KwKXSSkXomht"
   },
   "outputs": [],
   "source": [
    "import tensorflow as tf\n",
    "import numpy as np\n",
    "\n",
    "data = np.load('modelData.npy')\n",
    "\n",
    "size = len(data)\n",
    "\n",
    "#size = 1000\n",
    "#data = data[: size]\n",
    "\n",
    "test_percent = 0.9\n",
    "\n",
    "x = []\n",
    "y = []\n",
    "\n",
    "for i in range(size):\n",
    "    x.append([data[i][0], data[i][1]])\n",
    "    y.append(data[i][2:])\n",
    "    \n",
    "x = np.array(x)\n",
    "y = np.array(y)\n",
    "    \n",
    "x_train = x[:round(size * test_percent)]\n",
    "y_train = y[:round(size * test_percent)]\n",
    "\n",
    "x_test = x[round(size * test_percent):]\n",
    "y_test = y[round(size * test_percent):]\n",
    "\n",
    "model = tf.keras.models.Sequential()\n",
    "model.add(tf.keras.layers.Dense(2, kernel_initializer='normal',input_dim = x_train.shape[1], activation='relu'))\n",
    "model.add(tf.keras.layers.Dense(64, kernel_initializer='normal', activation='relu'))\n",
    "model.add(tf.keras.layers.Dense(128, kernel_initializer='normal', activation='relu'))\n",
    "model.add(tf.keras.layers.Dense(64, kernel_initializer='normal', activation='relu'))\n",
    "model.add(tf.keras.layers.Dense(2, kernel_initializer='normal', activation='linear'))\n",
    "\n",
    "model.compile(optimizer = 'adam',\n",
    "              loss = 'mean_squared_error',\n",
    "              metrics = ['mean_squared_error'])\n",
    "\n",
    "model.fit(x, y, epochs=5)\n",
    "model.evaluate(x_test, y_test)\n",
    "\n",
    "def getPredicted(c):\n",
    "    d = model.predict([c])\n",
    "    return d[0][0], d[0][1]\n",
    "\n",
    "def acc(k=0):\n",
    "    for i in range(k,10+k):\n",
    "        c = [data[i][0] , data[i][1]]\n",
    "#        print(c)\n",
    "        d = getPredicted(c)\n",
    "        diff = (d[0] - data[i][2]), (d[1] - data[i][3])\n",
    "        print(diff, data[i][2:], d)\n",
    "\n",
    "\n",
    "#model.save('model9')\n",
    "acc()"
   ]
  }
 ],
 "metadata": {
  "colab": {
   "name": "The model.ipynb",
   "provenance": []
  },
  "kernelspec": {
   "display_name": "Python 3",
   "language": "python",
   "name": "python3"
  },
  "language_info": {
   "codemirror_mode": {
    "name": "ipython",
    "version": 3
   },
   "file_extension": ".py",
   "mimetype": "text/x-python",
   "name": "python",
   "nbconvert_exporter": "python",
   "pygments_lexer": "ipython3",
   "version": "3.8.5"
  }
 },
 "nbformat": 4,
 "nbformat_minor": 1
}
