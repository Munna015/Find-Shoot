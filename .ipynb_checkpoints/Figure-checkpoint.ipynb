{
 "cells": [
  {
   "cell_type": "code",
   "execution_count": null,
   "metadata": {},
   "outputs": [],
   "source": [
    "import tensorflow as tf\n",
    "import matplotlib.pyplot as plt\n",
    "import os\n",
    "import cv2\n",
    "import numpy as np\n",
    "from tensorflow.keras.preprocessing.image import ImageDataGenerator\n",
    "from tensorflow.keras.preprocessing import image\n",
    "import visualkeras\n",
    "from tensorflow.keras.models import Sequential\n",
    "from tensorflow.keras.layers import Conv2D, MaxPooling2D\n",
    "from tensorflow.keras.layers import BatchNormalization\n",
    "from tensorflow.keras.layers import Dropout\n",
    "from tensorflow.keras.layers import Dense, Flatten\n",
    "\n",
    "model = Sequential()\n",
    "\n",
    "model.add(Conv2D(filters=16, kernel_size=(3, 3), kernel_initializer='normal', activation=relu, input_shape=x[0].shape))\n",
    "model.add(MaxPooling2D(pool_size=(2, 2)))\n",
    "\n",
    "model.add(Conv2D(filters=32, kernel_size=(3, 3), kernel_initializer='normal', activation=relu))\n",
    "model.add(MaxPooling2D(pool_size=(2, 2)))\n",
    "\n",
    "model.add(Conv2D(filters=64, kernel_size=(3, 3), kernel_initializer='normal', activation=relu))\n",
    "model.add(MaxPooling2D(pool_size=(2, 2)))\n",
    "\n",
    "#model.add(Conv2D(filters=256, kernel_size=(3, 3), activation=relu))\n",
    "#model.add(MaxPooling2D(pool_size=(2, 2)))\n",
    "\n",
    "model.add(Flatten())\n",
    "\n",
    "#model.add(Dense(units=256, kernel_initializer='normal', activation='relu'))\n",
    "#model.add(Dense(units=128, kernel_initializer='normal', activation='relu'))\n",
    "model.add(Dense(units=64, kernel_initializer='normal', activation=relu))\n",
    "\n",
    "model.add(Dense(units=2, kernel_initializer='normal', activation=linear))"
   ]
  },
  {
   "cell_type": "code",
   "execution_count": null,
   "metadata": {},
   "outputs": [],
   "source": [
    "\n",
    "from PIL import ImageFont\n",
    "from collections import defaultdict\n",
    "\n",
    "\n",
    "\n",
    "\n",
    "color_map = defaultdict(dict)\n",
    "color_map[Conv2D]['fill'] = 'white'\n",
    "#color_map[ZeroPadding2D]['fill'] = 'gray'\n",
    "color_map[BatchNormalization]['fill'] = 'LightSkyBlue'\n",
    "color_map[MaxPooling2D]['fill'] = 'grey'\n",
    "color_map[Dense]['fill'] = 'teal'\n",
    "\n",
    "color_map[Flatten]['fill'] = 'teal'\n",
    "color_map[Dropout]['fill'] = 'mediumseagreen'\n",
    "\n",
    "#font = ImageFont.truetype(\"arial.ttf\", 32)  # using comic sans is strictly prohibited!\n",
    "#visualkeras.layered_view(model,color_map=color_map,spacing=30, to_file='D:\\CSE 3.2\\CSE-3200(System Project)\\Architecture\\m.png') # write to disk\n",
    "visualkeras.layered_view(model,color_map=color_map,spacing=30)  # font is optional!\n",
    "#visualkeras.layered_view(model)"
   ]
  },
  {
   "cell_type": "code",
   "execution_count": null,
   "metadata": {},
   "outputs": [],
   "source": []
  },
  {
   "cell_type": "code",
   "execution_count": null,
   "metadata": {},
   "outputs": [],
   "source": []
  },
  {
   "cell_type": "code",
   "execution_count": null,
   "metadata": {},
   "outputs": [],
   "source": []
  }
 ],
 "metadata": {
  "kernelspec": {
   "display_name": "Python 3",
   "language": "python",
   "name": "python3"
  },
  "language_info": {
   "codemirror_mode": {
    "name": "ipython",
    "version": 3
   },
   "file_extension": ".py",
   "mimetype": "text/x-python",
   "name": "python",
   "nbconvert_exporter": "python",
   "pygments_lexer": "ipython3",
   "version": "3.8.5"
  }
 },
 "nbformat": 4,
 "nbformat_minor": 5
}
