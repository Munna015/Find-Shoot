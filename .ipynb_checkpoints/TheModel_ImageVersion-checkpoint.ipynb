{
 "cells": [
  {
   "cell_type": "code",
   "execution_count": null,
   "metadata": {
    "id": "y4RGSXHpo7Ea"
   },
   "outputs": [],
   "source": [
    "import numpy\n",
    "\n",
    "import tensorflow as tf\n",
    "from tensorflow.keras.models import Sequential\n",
    "from tensorflow.keras.layers import Conv2D, MaxPooling2D, Flatten, Dense\n",
    "from tensorflow.keras.activations import relu, linear\n",
    "\n",
    "\n",
    "imageResize = (80,30)\n",
    "\n",
    "print('loading image data...')\n",
    "img_data = numpy.load('modelImageData.npy', allow_pickle=True)\n",
    "print('loaded!!')\n",
    "\n",
    "x = numpy.array([i for i in img_data[0]])\n",
    "y = numpy.array([i for i in img_data[1]])\n",
    "\n",
    "x = x / 255\n",
    "\n",
    "def myLoss(y_pred, y_ac):\n",
    "    d = y_pred - y_ac\n",
    "    sum = d[0] * d[0] + d[1] * d[1]\n",
    "    return 2*sum\n",
    "\n",
    "# the model\n",
    "\n",
    "model = Sequential()\n",
    "\n",
    "model.add(Conv2D(filters=16, kernel_size=(3, 3), kernel_initializer='normal', activation=relu, input_shape=x[0].shape))\n",
    "model.add(MaxPooling2D(pool_size=(2, 2)))\n",
    "\n",
    "model.add(Conv2D(filters=32, kernel_size=(3, 3), kernel_initializer='normal', activation=relu))\n",
    "model.add(MaxPooling2D(pool_size=(2, 2)))\n",
    "\n",
    "model.add(Conv2D(filters=64, kernel_size=(3, 3), kernel_initializer='normal', activation=relu))\n",
    "model.add(MaxPooling2D(pool_size=(2, 2)))\n",
    "\n",
    "#model.add(Conv2D(filters=256, kernel_size=(3, 3), activation=relu))\n",
    "#model.add(MaxPooling2D(pool_size=(2, 2)))\n",
    "\n",
    "model.add(Flatten())\n",
    "\n",
    "#model.add(Dense(units=256, kernel_initializer='normal', activation='relu'))\n",
    "#model.add(Dense(units=128, kernel_initializer='normal', activation='relu'))\n",
    "model.add(Dense(units=64, kernel_initializer='normal', activation=relu))\n",
    "\n",
    "model.add(Dense(units=2, kernel_initializer='normal', activation=linear))\n",
    "\n",
    "\n",
    "model.compile(optimizer='adam', loss='mse', metrics=['mse'])\n",
    "\n",
    "model.fit(x, y, epochs=10 , validation_split=0.1, shuffle=False)\n",
    "\n",
    "\n",
    "def acc(s = 0):\n",
    "    for i in range(s, s+10):\n",
    "        a = model.predict(x[i].reshape((1,) + x[0].shape))\n",
    "        print(y[i] - a[0])\n",
    "\n",
    "acc()\n",
    "\n",
    "#model.save('model_imageToPrediction_augmented')"
   ]
  }
 ],
 "metadata": {
  "colab": {
   "name": "TheModel-ImageVersion.ipynb",
   "provenance": []
  },
  "kernelspec": {
   "display_name": "Python 3",
   "language": "python",
   "name": "python3"
  },
  "language_info": {
   "codemirror_mode": {
    "name": "ipython",
    "version": 3
   },
   "file_extension": ".py",
   "mimetype": "text/x-python",
   "name": "python",
   "nbconvert_exporter": "python",
   "pygments_lexer": "ipython3",
   "version": "3.8.5"
  }
 },
 "nbformat": 4,
 "nbformat_minor": 1
}
