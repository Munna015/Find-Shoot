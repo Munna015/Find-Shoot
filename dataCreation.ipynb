{
 "cells": [
  {
   "cell_type": "code",
   "execution_count": 1,
   "metadata": {
    "colab": {
     "base_uri": "https://localhost:8080/"
    },
    "id": "0MR-ctf_nrB3",
    "outputId": "af13628e-71cd-46ed-fcb8-d389d87505af"
   },
   "outputs": [
    {
     "name": "stderr",
     "output_type": "stream",
     "text": [
      "100%|██████████| 5625/5625 [00:00<00:00, 46344.49it/s]\n"
     ]
    }
   ],
   "source": [
    "import random\n",
    "import numpy\n",
    "import math\n",
    "import tensorflow as tf\n",
    "from tqdm import tqdm\n",
    "\n",
    "max_v = 100\n",
    "bar_height = 160\n",
    "\n",
    "# from game\n",
    "screenWidth = 800\n",
    "screenHeight = 600\n",
    "\n",
    "barHeight = 160\n",
    "barWidth = 20\n",
    "barPosX = (screenWidth // 2) - (barWidth // 2)\n",
    "player1limitX = (0, barPosX - barWidth)\n",
    "player2limitX = (barPosX + barWidth, screenWidth - barWidth)\n",
    "\n",
    "\n",
    "\n",
    "final_data = []\n",
    "g = 9.8\n",
    "positions = []\n",
    "pos1 = player1limitX[0]\n",
    "\n",
    "#how much data\n",
    "step = 5\n",
    "\n",
    "while pos1 <= player1limitX[1]:\n",
    "    pos2 = player2limitX[0]\n",
    "    while pos2 <= player2limitX[1]:       \n",
    "        positions.append([pos1, pos2])\n",
    "        pos2 += step\n",
    "    pos1 += step\n",
    "count = 0\n",
    "#print(positions)\n",
    "for pos1, pos2 in tqdm(positions): \n",
    "    target = pos2 - pos1\n",
    "    bar_dist = barPosX - pos1\n",
    "    minAngle = math.atan((bar_height + 20) / (bar_dist - bar_dist * bar_dist / target)) * 180 / math.pi\n",
    "    maxAngle = 90 - 0.5 * math.asin(g * target / (max_v * max_v)) * 180 / math.pi\n",
    "    \n",
    "    angle = (minAngle + maxAngle) / 2\n",
    "    \n",
    "    radian_angle = angle * numpy.pi / 180\n",
    "    velocity = numpy.sqrt((target*g) / numpy.sin(2*radian_angle))\n",
    "\n",
    "    \n",
    "    index = random.randint(0,count)\n",
    "    final_data.insert(index, [target, bar_dist, angle, velocity])\n",
    "    count += 1\n",
    "\n",
    "numpy.save('modelData.npy', final_data)\n",
    "\n",
    "#print(final_data)\n",
    "        \n",
    "    "
   ]
  },
  {
   "cell_type": "code",
   "execution_count": null,
   "metadata": {},
   "outputs": [],
   "source": []
  }
 ],
 "metadata": {
  "colab": {
   "name": "dataCreation.ipynb",
   "provenance": []
  },
  "kernelspec": {
   "display_name": "Python 3",
   "language": "python",
   "name": "python3"
  },
  "language_info": {
   "codemirror_mode": {
    "name": "ipython",
    "version": 3
   },
   "file_extension": ".py",
   "mimetype": "text/x-python",
   "name": "python",
   "nbconvert_exporter": "python",
   "pygments_lexer": "ipython3",
   "version": "3.8.5"
  }
 },
 "nbformat": 4,
 "nbformat_minor": 1
}
